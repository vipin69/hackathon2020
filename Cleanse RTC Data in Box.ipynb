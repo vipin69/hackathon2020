{
 "cells": [
  {
   "cell_type": "code",
   "execution_count": 110,
   "metadata": {},
   "outputs": [],
   "source": [
    "## Code to cleanse RTC Worklist.json data prior to training\n",
    "## SVIPIN - 12 OCTOBER 2020\n",
    "\n",
    "import glob\n",
    "import json\n",
    "import re\n",
    "\n",
    "#File path to all json files to be updated\n",
    "file_path = glob.glob('/Users/vipin/Downloads/mybox-selected/*.json')\n",
    "\n",
    "#Function to replace fields in a text string with values defined in a dictionary\n",
    "def replace_all(text, dic):\n",
    "    for i, j in dic.items():\n",
    "        text = text.replace(i, j)\n",
    "    return text\n",
    "\n",
    "#Define all key fields to be replaced\n",
    "replace_fields={\"dc:title\":\"title\",\n",
    "                \"dc:description\":\"description\",\n",
    "                \"rtc_cm:incident_workaround\":\"incident_workaround\",\n",
    "                \"dc:created\":\"created\",\n",
    "                \"rtc_cm:incident_rca\":\"incident_rca\",\n",
    "                \"&nbsp;\":\" \"}\n",
    "\n",
    "#Define all fields to be retained in the final output\n",
    "field_filter = {'title','description','incident_workaround','incident_rca','created'}\n",
    "\n",
    "#Perform update to every file in the directory\n",
    "for file in file_path:\n",
    "    \n",
    "    #Open the file in read/write mode\n",
    "    myfile=open(file,'r+')\n",
    "    \n",
    "    #Read the file into file_txt\n",
    "    file_txt=myfile.read()\n",
    "    \n",
    "    #Update the text without \":\" by calling replace_all function\n",
    "    upd_txt=replace_all(file_txt,replace_fields)\n",
    "    \n",
    "    #Convert the updated string into a dictionary\n",
    "    myjson=json.loads(upd_txt)\n",
    "    \n",
    "    #The final cleaned data, after removing unwanted fields\n",
    "    clean_data={key:value for key,value in myjson.items() if key in field_filter}\n",
    "    \n",
    "    #Convert the cleaned data from a dictionary to a string before writing to output\n",
    "    string_data=json.dumps(clean_data)\n",
    "    \n",
    "    #Write the output back into the input file by going back to the top of the file\n",
    "    myfile.seek(0)\n",
    "    myfile.write(re.sub(r\"<string>ABC</string>(\\s+)<string>(.*)</string>\", r\"<xyz>ABC</xyz>\\1<xyz>\\2</xyz>\",string_data))\n",
    "    myfile.truncate()\n",
    "    \n",
    "    #Close the file once done\n",
    "    myfile.close()"
   ]
  },
  {
   "cell_type": "code",
   "execution_count": null,
   "metadata": {},
   "outputs": [],
   "source": []
  }
 ],
 "metadata": {
  "kernelspec": {
   "display_name": "Python 3",
   "language": "python",
   "name": "python3"
  },
  "language_info": {
   "codemirror_mode": {
    "name": "ipython",
    "version": 3
   },
   "file_extension": ".py",
   "mimetype": "text/x-python",
   "name": "python",
   "nbconvert_exporter": "python",
   "pygments_lexer": "ipython3",
   "version": "3.6.4"
  }
 },
 "nbformat": 4,
 "nbformat_minor": 2
}
